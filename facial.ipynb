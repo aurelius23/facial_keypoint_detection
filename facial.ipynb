{
 "cells": [
  {
   "cell_type": "markdown",
   "metadata": {},
   "source": []
  },
  {
   "cell_type": "code",
   "execution_count": 49,
   "metadata": {},
   "outputs": [],
   "source": [
    "import pandas as pd\n",
    "import matplotlib.pyplot as plt\n",
    "import numpy as np\n",
    "import tensorflow as tf\n",
    "from tensorflow.python import debug as tf_debug\n",
    "from keras.callbacks import History\n",
    "from keras import optimizers,Sequential, initializers, regularizers,callbacks\n",
    "from keras import backend as K\n",
    "from keras.layers import Input, Conv2D, Activation, MaxPooling2D, Flatten, Dense, Dropout\n",
    "from keras.models import Model\n",
    "from helper import *"
   ]
  },
  {
   "cell_type": "code",
   "execution_count": 2,
   "metadata": {},
   "outputs": [],
   "source": [
    "(data1,data2) = load_data()"
   ]
  },
  {
   "cell_type": "code",
   "execution_count": 3,
   "metadata": {},
   "outputs": [
    {
     "data": {
      "image/png": "[encoded data removed]",
      "text/plain": [
       "<matplotlib.figure.Figure at 0x1064dc940>"
      ]
     },
     "metadata": {},
     "output_type": "display_data"
    }
   ],
   "source": [
    "plot_image(data1,12,True)"
   ]
  },
  {
   "cell_type": "markdown",
   "metadata": {},
   "source": [
    "flip_indices = [\n",
    "    (0, 2), (1, 3),\n",
    "    (4, 8), (5, 9), (6, 10), (7, 11),\n",
    "    (12, 16), (13, 17), (14, 18), (15, 19),\n",
    "    (22, 24), (23, 25),\n",
    "    ]\n",
    "\n",
    "\n",
    "for i, j in flip_indices:\n",
    "    a = x[i]\n",
    "    b = x[j]\n",
    "    x[i] = b\n",
    "    x[j] = a"
   ]
  },
  {
   "cell_type": "code",
   "execution_count": null,
   "metadata": {},
   "outputs": [],
   "source": []
  },
  {
   "cell_type": "code",
   "execution_count": null,
   "metadata": {},
   "outputs": [],
   "source": []
  },
  {
   "cell_type": "code",
   "execution_count": 4,
   "metadata": {},
   "outputs": [],
   "source": [
    "def rmse(y_pred,y_true):\n",
    "    return K.sqrt(K.mean(K.square(y_pred - y_true), axis=-1))"
   ]
  },
  {
   "cell_type": "code",
   "execution_count": null,
   "metadata": {},
   "outputs": [],
   "source": []
  },
  {
   "cell_type": "code",
   "execution_count": 93,
   "metadata": {},
   "outputs": [
    {
     "name": "stdout",
     "output_type": "stream",
     "text": [
      "Train on 1498 samples, validate on 642 samples\n",
      "Epoch 1/50\n",
      "1498/1498 [==============================] - 1s 642us/step - loss: 0.2979 - acc: 0.4332 - val_loss: 0.3143 - val_acc: 0.0374\n",
      "Epoch 2/50\n",
      "1498/1498 [==============================] - 1s 521us/step - loss: 0.2670 - acc: 0.4426 - val_loss: 0.2980 - val_acc: 0.4564\n",
      "Epoch 3/50\n",
      "1498/1498 [==============================] - 1s 530us/step - loss: 0.2637 - acc: 0.8037 - val_loss: 0.2832 - val_acc: 0.4548\n",
      "Epoch 4/50\n",
      "1498/1498 [==============================] - 1s 526us/step - loss: 0.2632 - acc: 0.8057 - val_loss: 0.2824 - val_acc: 0.4564\n",
      "Epoch 5/50\n",
      "1498/1498 [==============================] - 1s 524us/step - loss: 0.2631 - acc: 0.8117 - val_loss: 0.2801 - val_acc: 0.4564\n",
      "Epoch 6/50\n",
      "1498/1498 [==============================] - 1s 529us/step - loss: 0.2630 - acc: 0.8117 - val_loss: 0.2803 - val_acc: 0.4564\n",
      "Epoch 7/50\n",
      "1498/1498 [==============================] - 1s 530us/step - loss: 0.2628 - acc: 0.8091 - val_loss: 0.2796 - val_acc: 0.4564\n",
      "Epoch 8/50\n",
      "1498/1498 [==============================] - 1s 529us/step - loss: 0.2628 - acc: 0.8117 - val_loss: 0.2800 - val_acc: 0.4564\n",
      "Epoch 9/50\n",
      "1498/1498 [==============================] - 1s 529us/step - loss: 0.2627 - acc: 0.8111 - val_loss: 0.2772 - val_acc: 0.4564\n",
      "Epoch 10/50\n",
      "1498/1498 [==============================] - 1s 529us/step - loss: 0.2625 - acc: 0.8104 - val_loss: 0.2774 - val_acc: 0.4564\n",
      "Epoch 11/50\n",
      "1498/1498 [==============================] - 1s 527us/step - loss: 0.2621 - acc: 0.8091 - val_loss: 0.2736 - val_acc: 0.4579\n",
      "Epoch 12/50\n",
      "1498/1498 [==============================] - 1s 531us/step - loss: 0.2618 - acc: 0.8131 - val_loss: 0.2734 - val_acc: 0.4579\n",
      "Epoch 13/50\n",
      "1498/1498 [==============================] - 1s 533us/step - loss: 0.2615 - acc: 0.8124 - val_loss: 0.2738 - val_acc: 0.4626\n",
      "Epoch 14/50\n",
      "1498/1498 [==============================] - 1s 531us/step - loss: 0.2613 - acc: 0.8077 - val_loss: 0.2697 - val_acc: 0.4626\n",
      "Epoch 15/50\n",
      "1498/1498 [==============================] - 1s 547us/step - loss: 0.2611 - acc: 0.8151 - val_loss: 0.2700 - val_acc: 0.4704\n",
      "Epoch 16/50\n",
      "1498/1498 [==============================] - 1s 533us/step - loss: 0.2610 - acc: 0.8111 - val_loss: 0.2685 - val_acc: 0.4720\n",
      "Epoch 17/50\n",
      "1498/1498 [==============================] - 1s 543us/step - loss: 0.2609 - acc: 0.8251 - val_loss: 0.2687 - val_acc: 0.4782\n",
      "Epoch 18/50\n",
      "1498/1498 [==============================] - 1s 529us/step - loss: 0.2609 - acc: 0.8311 - val_loss: 0.2671 - val_acc: 0.4813\n",
      "Epoch 19/50\n",
      "1498/1498 [==============================] - 1s 547us/step - loss: 0.2609 - acc: 0.8231 - val_loss: 0.2671 - val_acc: 0.4891\n",
      "Epoch 20/50\n",
      "1498/1498 [==============================] - 1s 530us/step - loss: 0.2607 - acc: 0.8291 - val_loss: 0.2667 - val_acc: 0.4860\n",
      "Epoch 21/50\n",
      "1498/1498 [==============================] - 1s 551us/step - loss: 0.2607 - acc: 0.8324 - val_loss: 0.2670 - val_acc: 0.4844\n",
      "Epoch 22/50\n",
      "1498/1498 [==============================] - 1s 528us/step - loss: 0.2607 - acc: 0.8451 - val_loss: 0.2658 - val_acc: 0.4922\n",
      "Epoch 23/50\n",
      "1498/1498 [==============================] - 1s 545us/step - loss: 0.2606 - acc: 0.8445 - val_loss: 0.2663 - val_acc: 0.4969\n",
      "Epoch 24/50\n",
      "1498/1498 [==============================] - 1s 531us/step - loss: 0.2606 - acc: 0.8451 - val_loss: 0.2662 - val_acc: 0.4829\n",
      "Epoch 25/50\n",
      "1498/1498 [==============================] - 1s 548us/step - loss: 0.2606 - acc: 0.8525 - val_loss: 0.2660 - val_acc: 0.4829\n",
      "Epoch 26/50\n",
      "1498/1498 [==============================] - 1s 531us/step - loss: 0.2605 - acc: 0.8478 - val_loss: 0.2661 - val_acc: 0.4891\n",
      "Epoch 27/50\n",
      "1498/1498 [==============================] - 1s 530us/step - loss: 0.2605 - acc: 0.8491 - val_loss: 0.2653 - val_acc: 0.4860\n",
      "Epoch 28/50\n",
      "1498/1498 [==============================] - 1s 544us/step - loss: 0.2605 - acc: 0.8531 - val_loss: 0.2660 - val_acc: 0.4891\n",
      "Epoch 29/50\n",
      "1498/1498 [==============================] - 1s 532us/step - loss: 0.2605 - acc: 0.8585 - val_loss: 0.2657 - val_acc: 0.4907\n",
      "Epoch 30/50\n",
      "1498/1498 [==============================] - 1s 527us/step - loss: 0.2605 - acc: 0.8531 - val_loss: 0.2654 - val_acc: 0.4938\n",
      "Epoch 31/50\n",
      "1498/1498 [==============================] - 1s 549us/step - loss: 0.2604 - acc: 0.8778 - val_loss: 0.2651 - val_acc: 0.4891\n",
      "Epoch 32/50\n",
      "1498/1498 [==============================] - 1s 528us/step - loss: 0.2604 - acc: 0.8678 - val_loss: 0.2650 - val_acc: 0.4875\n",
      "Epoch 33/50\n",
      "1498/1498 [==============================] - 1s 539us/step - loss: 0.2604 - acc: 0.8658 - val_loss: 0.2647 - val_acc: 0.4907\n",
      "Epoch 34/50\n",
      "1498/1498 [==============================] - 1s 526us/step - loss: 0.2604 - acc: 0.8638 - val_loss: 0.2648 - val_acc: 0.4922\n",
      "Epoch 35/50\n",
      "1498/1498 [==============================] - 1s 531us/step - loss: 0.2604 - acc: 0.8738 - val_loss: 0.2653 - val_acc: 0.4938\n",
      "Epoch 36/50\n",
      "1498/1498 [==============================] - 1s 518us/step - loss: 0.2604 - acc: 0.8765 - val_loss: 0.2652 - val_acc: 0.4860\n",
      "Epoch 37/50\n",
      "1498/1498 [==============================] - 1s 527us/step - loss: 0.2604 - acc: 0.8598 - val_loss: 0.2652 - val_acc: 0.4984\n",
      "Epoch 38/50\n",
      "1498/1498 [==============================] - 1s 530us/step - loss: 0.2603 - acc: 0.8698 - val_loss: 0.2650 - val_acc: 0.4953\n",
      "Epoch 39/50\n",
      "1498/1498 [==============================] - 1s 532us/step - loss: 0.2603 - acc: 0.8758 - val_loss: 0.2649 - val_acc: 0.4907\n",
      "Epoch 40/50\n",
      "1498/1498 [==============================] - 1s 524us/step - loss: 0.2604 - acc: 0.8645 - val_loss: 0.2652 - val_acc: 0.4938\n",
      "Epoch 41/50\n",
      "1498/1498 [==============================] - 1s 534us/step - loss: 0.2603 - acc: 0.8692 - val_loss: 0.2655 - val_acc: 0.4969\n",
      "Epoch 42/50\n",
      "1498/1498 [==============================] - 1s 526us/step - loss: 0.2604 - acc: 0.8772 - val_loss: 0.2645 - val_acc: 0.5016\n",
      "Epoch 43/50\n",
      "1498/1498 [==============================] - 1s 538us/step - loss: 0.2604 - acc: 0.8752 - val_loss: 0.2643 - val_acc: 0.4953\n",
      "Epoch 44/50\n",
      "1498/1498 [==============================] - 1s 534us/step - loss: 0.2603 - acc: 0.8725 - val_loss: 0.2652 - val_acc: 0.4907\n",
      "Epoch 45/50\n",
      "1498/1498 [==============================] - 1s 525us/step - loss: 0.2603 - acc: 0.8672 - val_loss: 0.2642 - val_acc: 0.4938\n",
      "Epoch 46/50\n",
      "1498/1498 [==============================] - 1s 535us/step - loss: 0.2603 - acc: 0.8798 - val_loss: 0.2650 - val_acc: 0.5031\n",
      "Epoch 47/50\n",
      "1498/1498 [==============================] - 1s 531us/step - loss: 0.2603 - acc: 0.8778 - val_loss: 0.2648 - val_acc: 0.4953\n",
      "Epoch 48/50\n",
      "1498/1498 [==============================] - 1s 535us/step - loss: 0.2603 - acc: 0.8812 - val_loss: 0.2644 - val_acc: 0.4907\n",
      "Epoch 49/50\n",
      "1498/1498 [==============================] - 1s 538us/step - loss: 0.2602 - acc: 0.8865 - val_loss: 0.2645 - val_acc: 0.4922\n",
      "Epoch 50/50\n",
      "1498/1498 [==============================] - 1s 522us/step - loss: 0.2602 - acc: 0.8879 - val_loss: 0.2644 - val_acc: 0.4922\n"
     ]
    },
    {
     "data": {
      "text/plain": [
       "<keras.callbacks.History at 0x7ffa805d71d0>"
      ]
     },
     "execution_count": 93,
     "metadata": {},
     "output_type": "execute_result"
    }
   ],
   "source": [
    "model.fit(x=train_x2, y=train_y2,epochs=50,batch_size=128,validation_data=(test_x2, test_y2))"
   ]
  },
  {
   "cell_type": "code",
   "execution_count": 97,
   "metadata": {},
   "outputs": [
    {
     "name": "stdout",
     "output_type": "stream",
     "text": [
      "642/642 [==============================] - 0s 201us/step\n",
      "Loss = 0.2643925097315482\n",
      "Test Accuracy = 0.49221183800623053\n"
     ]
    }
   ],
   "source": [
    "preds = model.evaluate(x=test_x2, y = test_y2)\n",
    "print(\"Loss = \" + str(preds[0]))\n",
    "print(\"Test Accuracy = \" + str(preds[1]))"
   ]
  },
  {
   "cell_type": "code",
   "execution_count": 5,
   "metadata": {},
   "outputs": [
    {
     "name": "stderr",
     "output_type": "stream",
     "text": [
      "/Users/gianlucatadori/Documents/Programming/kaggle_facial/helper.py:72: SettingWithCopyWarning: \n",
      "A value is trying to be set on a copy of a slice from a DataFrame.\n",
      "Try using .loc[row_indexer,col_indexer] = value instead\n",
      "\n",
      "See the caveats in the documentation: http://pandas.pydata.org/pandas-docs/stable/indexing.html#indexing-view-versus-copy\n",
      "  df['Image'] = df['Image'].apply(lambda im: np.fromstring(im, sep=' '))\n"
     ]
    }
   ],
   "source": [
    "x,y = preprocess_1d(data=data1)"
   ]
  },
  {
   "cell_type": "code",
   "execution_count": 27,
   "metadata": {},
   "outputs": [
    {
     "name": "stdout",
     "output_type": "stream",
     "text": [
      "Train on 1712 samples, validate on 428 samples\n",
      "Epoch 1/1000\n",
      "1712/1712 [==============================] - 1s 550us/step - loss: 0.0528 - val_loss: 0.0150\n",
      "Epoch 2/1000\n",
      "1712/1712 [==============================] - 0s 264us/step - loss: 0.0128 - val_loss: 0.0114\n",
      "Epoch 3/1000\n",
      "1712/1712 [==============================] - 0s 260us/step - loss: 0.0110 - val_loss: 0.0101\n",
      "Epoch 4/1000\n",
      "1712/1712 [==============================] - 0s 264us/step - loss: 0.0098 - val_loss: 0.0108\n",
      "Epoch 5/1000\n",
      "1712/1712 [==============================] - 0s 264us/step - loss: 0.0094 - val_loss: 0.0093\n",
      "Epoch 6/1000\n",
      "1712/1712 [==============================] - 0s 264us/step - loss: 0.0087 - val_loss: 0.0090\n",
      "Epoch 7/1000\n",
      "1712/1712 [==============================] - 0s 264us/step - loss: 0.0082 - val_loss: 0.0081\n",
      "Epoch 8/1000\n",
      "1712/1712 [==============================] - 0s 279us/step - loss: 0.0077 - val_loss: 0.0091\n",
      "Epoch 9/1000\n",
      "1712/1712 [==============================] - 0s 277us/step - loss: 0.0076 - val_loss: 0.0087\n",
      "Epoch 10/1000\n",
      "1712/1712 [==============================] - 1s 309us/step - loss: 0.0073 - val_loss: 0.0074\n",
      "Epoch 11/1000\n",
      "1712/1712 [==============================] - 1s 309us/step - loss: 0.0072 - val_loss: 0.0084\n",
      "Epoch 12/1000\n",
      "1712/1712 [==============================] - 1s 349us/step - loss: 0.0068 - val_loss: 0.0074\n",
      "Epoch 13/1000\n",
      "1712/1712 [==============================] - 0s 270us/step - loss: 0.0066 - val_loss: 0.0076\n",
      "Epoch 14/1000\n",
      "1712/1712 [==============================] - 0s 286us/step - loss: 0.0064 - val_loss: 0.0074\n",
      "Epoch 15/1000\n",
      "1712/1712 [==============================] - 0s 268us/step - loss: 0.0064 - val_loss: 0.0068\n",
      "Epoch 16/1000\n",
      "1712/1712 [==============================] - 0s 262us/step - loss: 0.0060 - val_loss: 0.0140\n",
      "Epoch 17/1000\n",
      "1712/1712 [==============================] - 0s 263us/step - loss: 0.0062 - val_loss: 0.0065\n",
      "Epoch 18/1000\n",
      "1712/1712 [==============================] - 0s 263us/step - loss: 0.0058 - val_loss: 0.0065\n",
      "Epoch 19/1000\n",
      "1712/1712 [==============================] - 0s 261us/step - loss: 0.0056 - val_loss: 0.0063\n",
      "Epoch 20/1000\n",
      "1712/1712 [==============================] - 0s 265us/step - loss: 0.0056 - val_loss: 0.0062\n",
      "Epoch 21/1000\n",
      "1712/1712 [==============================] - 0s 264us/step - loss: 0.0055 - val_loss: 0.0066\n",
      "Epoch 22/1000\n",
      "1712/1712 [==============================] - 0s 264us/step - loss: 0.0053 - val_loss: 0.0065\n",
      "Epoch 23/1000\n",
      "1712/1712 [==============================] - 0s 285us/step - loss: 0.0053 - val_loss: 0.0059\n",
      "Epoch 24/1000\n",
      "1712/1712 [==============================] - 0s 268us/step - loss: 0.0052 - val_loss: 0.0058\n",
      "Epoch 25/1000\n",
      "1712/1712 [==============================] - 0s 263us/step - loss: 0.0051 - val_loss: 0.0060\n",
      "Epoch 26/1000\n",
      "1712/1712 [==============================] - 0s 263us/step - loss: 0.0050 - val_loss: 0.0061\n",
      "Epoch 27/1000\n",
      "1712/1712 [==============================] - 0s 261us/step - loss: 0.0050 - val_loss: 0.0056\n",
      "Epoch 28/1000\n",
      "1712/1712 [==============================] - 0s 268us/step - loss: 0.0049 - val_loss: 0.0057\n",
      "Epoch 29/1000\n",
      "1712/1712 [==============================] - 0s 267us/step - loss: 0.0048 - val_loss: 0.0059\n",
      "Epoch 30/1000\n",
      "1712/1712 [==============================] - 0s 264us/step - loss: 0.0046 - val_loss: 0.0055\n",
      "Epoch 31/1000\n",
      "1712/1712 [==============================] - 0s 273us/step - loss: 0.0047 - val_loss: 0.0053\n",
      "Epoch 32/1000\n",
      "1712/1712 [==============================] - 0s 270us/step - loss: 0.0045 - val_loss: 0.0055\n",
      "Epoch 33/1000\n",
      "1712/1712 [==============================] - 0s 272us/step - loss: 0.0045 - val_loss: 0.0052\n",
      "Epoch 34/1000\n",
      "1712/1712 [==============================] - 0s 267us/step - loss: 0.0044 - val_loss: 0.0054\n",
      "Epoch 35/1000\n",
      "1712/1712 [==============================] - 0s 269us/step - loss: 0.0043 - val_loss: 0.0062\n",
      "Epoch 36/1000\n",
      "1712/1712 [==============================] - 0s 270us/step - loss: 0.0043 - val_loss: 0.0051\n",
      "Epoch 37/1000\n",
      "1712/1712 [==============================] - 0s 269us/step - loss: 0.0042 - val_loss: 0.0057\n",
      "Epoch 38/1000\n",
      "1712/1712 [==============================] - 0s 271us/step - loss: 0.0041 - val_loss: 0.0051\n",
      "Epoch 39/1000\n",
      "1712/1712 [==============================] - 0s 270us/step - loss: 0.0041 - val_loss: 0.0056\n",
      "Epoch 40/1000\n",
      "1712/1712 [==============================] - 0s 272us/step - loss: 0.0041 - val_loss: 0.0049\n",
      "Epoch 41/1000\n",
      "1712/1712 [==============================] - 0s 271us/step - loss: 0.0040 - val_loss: 0.0050\n",
      "Epoch 42/1000\n",
      "1712/1712 [==============================] - 0s 270us/step - loss: 0.0040 - val_loss: 0.0051\n",
      "Epoch 43/1000\n",
      "1712/1712 [==============================] - 0s 269us/step - loss: 0.0039 - val_loss: 0.0047\n",
      "Epoch 44/1000\n",
      "1712/1712 [==============================] - 0s 268us/step - loss: 0.0039 - val_loss: 0.0050\n",
      "Epoch 45/1000\n",
      "1712/1712 [==============================] - 0s 275us/step - loss: 0.0038 - val_loss: 0.0047\n",
      "Epoch 46/1000\n",
      "1712/1712 [==============================] - 0s 272us/step - loss: 0.0039 - val_loss: 0.0047\n",
      "Epoch 47/1000\n",
      "1712/1712 [==============================] - 0s 269us/step - loss: 0.0037 - val_loss: 0.0052\n",
      "Epoch 48/1000\n",
      "1712/1712 [==============================] - 0s 271us/step - loss: 0.0038 - val_loss: 0.0051\n",
      "Epoch 49/1000\n",
      "1712/1712 [==============================] - 0s 269us/step - loss: 0.0036 - val_loss: 0.0051\n",
      "Epoch 50/1000\n",
      "1712/1712 [==============================] - 0s 273us/step - loss: 0.0037 - val_loss: 0.0044\n",
      "Epoch 51/1000\n",
      "1712/1712 [==============================] - 0s 273us/step - loss: 0.0036 - val_loss: 0.0050\n",
      "Epoch 52/1000\n",
      "1712/1712 [==============================] - 0s 275us/step - loss: 0.0035 - val_loss: 0.0043\n",
      "Epoch 53/1000\n",
      "1712/1712 [==============================] - 0s 274us/step - loss: 0.0035 - val_loss: 0.0054\n",
      "Epoch 54/1000\n",
      "1712/1712 [==============================] - 0s 289us/step - loss: 0.0035 - val_loss: 0.0049\n",
      "Epoch 55/1000\n",
      "1712/1712 [==============================] - 0s 266us/step - loss: 0.0035 - val_loss: 0.0043\n",
      "Epoch 56/1000\n",
      "1712/1712 [==============================] - 0s 270us/step - loss: 0.0034 - val_loss: 0.0042\n",
      "Epoch 57/1000\n",
      "1712/1712 [==============================] - 0s 266us/step - loss: 0.0034 - val_loss: 0.0043\n",
      "Epoch 58/1000\n",
      "1712/1712 [==============================] - 0s 269us/step - loss: 0.0034 - val_loss: 0.0048\n",
      "Epoch 59/1000\n",
      "1712/1712 [==============================] - 0s 265us/step - loss: 0.0033 - val_loss: 0.0050\n",
      "Epoch 60/1000\n",
      "1712/1712 [==============================] - 0s 269us/step - loss: 0.0033 - val_loss: 0.0042\n",
      "Epoch 61/1000\n",
      "1712/1712 [==============================] - 0s 273us/step - loss: 0.0033 - val_loss: 0.0041\n",
      "Epoch 62/1000\n",
      "1712/1712 [==============================] - 0s 270us/step - loss: 0.0033 - val_loss: 0.0041\n",
      "Epoch 63/1000\n",
      "1712/1712 [==============================] - 0s 272us/step - loss: 0.0032 - val_loss: 0.0042\n",
      "Epoch 64/1000\n",
      "1712/1712 [==============================] - 0s 272us/step - loss: 0.0032 - val_loss: 0.0041\n",
      "Epoch 65/1000\n",
      "1712/1712 [==============================] - 0s 272us/step - loss: 0.0032 - val_loss: 0.0041\n",
      "Epoch 66/1000\n",
      "1712/1712 [==============================] - 0s 273us/step - loss: 0.0033 - val_loss: 0.0041\n",
      "Epoch 67/1000\n",
      "1712/1712 [==============================] - 0s 276us/step - loss: 0.0031 - val_loss: 0.0042\n",
      "Epoch 68/1000\n",
      "1712/1712 [==============================] - 0s 274us/step - loss: 0.0031 - val_loss: 0.0040\n",
      "Epoch 69/1000\n",
      "1712/1712 [==============================] - 0s 271us/step - loss: 0.0031 - val_loss: 0.0043\n",
      "Epoch 70/1000\n",
      "1712/1712 [==============================] - 0s 272us/step - loss: 0.0031 - val_loss: 0.0042\n",
      "Epoch 71/1000\n",
      "1712/1712 [==============================] - 0s 273us/step - loss: 0.0030 - val_loss: 0.0039\n",
      "Epoch 72/1000\n",
      "1712/1712 [==============================] - 0s 271us/step - loss: 0.0030 - val_loss: 0.0039\n",
      "Epoch 73/1000\n",
      "1712/1712 [==============================] - 0s 277us/step - loss: 0.0030 - val_loss: 0.0039\n",
      "Epoch 74/1000\n",
      "1712/1712 [==============================] - 0s 272us/step - loss: 0.0030 - val_loss: 0.0039\n",
      "Epoch 75/1000\n",
      "1712/1712 [==============================] - 0s 275us/step - loss: 0.0031 - val_loss: 0.0040\n",
      "Epoch 76/1000\n",
      "1712/1712 [==============================] - 0s 273us/step - loss: 0.0030 - val_loss: 0.0041\n",
      "Epoch 77/1000\n"
     ]
    },
    {
     "name": "stdout",
     "output_type": "stream",
     "text": [
      "1712/1712 [==============================] - 0s 273us/step - loss: 0.0031 - val_loss: 0.0040\n",
      "Epoch 78/1000\n",
      "1712/1712 [==============================] - 0s 272us/step - loss: 0.0029 - val_loss: 0.0039\n",
      "Epoch 79/1000\n",
      "1712/1712 [==============================] - 0s 266us/step - loss: 0.0028 - val_loss: 0.0043\n",
      "Epoch 80/1000\n",
      "1712/1712 [==============================] - 0s 269us/step - loss: 0.0030 - val_loss: 0.0042\n",
      "Epoch 81/1000\n",
      "1712/1712 [==============================] - 0s 272us/step - loss: 0.0029 - val_loss: 0.0038\n",
      "Epoch 82/1000\n",
      "1712/1712 [==============================] - 1s 297us/step - loss: 0.0029 - val_loss: 0.0038\n",
      "Epoch 83/1000\n",
      "1712/1712 [==============================] - 0s 276us/step - loss: 0.0029 - val_loss: 0.0038\n",
      "Epoch 84/1000\n",
      "1712/1712 [==============================] - 0s 285us/step - loss: 0.0028 - val_loss: 0.0037\n",
      "Epoch 85/1000\n",
      "1712/1712 [==============================] - 0s 280us/step - loss: 0.0028 - val_loss: 0.0039\n",
      "Epoch 86/1000\n",
      "1712/1712 [==============================] - 1s 314us/step - loss: 0.0028 - val_loss: 0.0040\n",
      "Epoch 87/1000\n",
      "1712/1712 [==============================] - 1s 314us/step - loss: 0.0027 - val_loss: 0.0040\n",
      "Epoch 88/1000\n",
      "1712/1712 [==============================] - 0s 291us/step - loss: 0.0028 - val_loss: 0.0038\n",
      "Epoch 89/1000\n",
      "1712/1712 [==============================] - 0s 276us/step - loss: 0.0027 - val_loss: 0.0037\n",
      "Epoch 90/1000\n",
      "1712/1712 [==============================] - 0s 284us/step - loss: 0.0027 - val_loss: 0.0042\n",
      "Epoch 91/1000\n",
      "1712/1712 [==============================] - 0s 270us/step - loss: 0.0027 - val_loss: 0.0037\n",
      "Epoch 92/1000\n",
      "1712/1712 [==============================] - 0s 281us/step - loss: 0.0027 - val_loss: 0.0037\n",
      "Epoch 93/1000\n",
      "1712/1712 [==============================] - 0s 277us/step - loss: 0.0027 - val_loss: 0.0037\n",
      "Epoch 94/1000\n",
      "1712/1712 [==============================] - 0s 263us/step - loss: 0.0026 - val_loss: 0.0036\n",
      "Epoch 95/1000\n",
      "1712/1712 [==============================] - 0s 258us/step - loss: 0.0027 - val_loss: 0.0037\n",
      "Epoch 96/1000\n",
      "1712/1712 [==============================] - 0s 259us/step - loss: 0.0026 - val_loss: 0.0036\n",
      "Epoch 97/1000\n",
      "1712/1712 [==============================] - 0s 264us/step - loss: 0.0025 - val_loss: 0.0038\n",
      "Epoch 98/1000\n",
      "1712/1712 [==============================] - 0s 265us/step - loss: 0.0027 - val_loss: 0.0038\n",
      "Epoch 99/1000\n",
      "1712/1712 [==============================] - 0s 268us/step - loss: 0.0027 - val_loss: 0.0037\n",
      "Epoch 100/1000\n",
      "1712/1712 [==============================] - 0s 267us/step - loss: 0.0025 - val_loss: 0.0036\n",
      "Epoch 101/1000\n",
      "1712/1712 [==============================] - 0s 268us/step - loss: 0.0025 - val_loss: 0.0036\n",
      "Epoch 102/1000\n",
      "1712/1712 [==============================] - 0s 268us/step - loss: 0.0026 - val_loss: 0.0037\n",
      "Epoch 103/1000\n",
      "1712/1712 [==============================] - 0s 266us/step - loss: 0.0025 - val_loss: 0.0039\n",
      "Epoch 104/1000\n",
      "1712/1712 [==============================] - 0s 266us/step - loss: 0.0026 - val_loss: 0.0035\n",
      "Epoch 105/1000\n",
      "1712/1712 [==============================] - 0s 267us/step - loss: 0.0025 - val_loss: 0.0037\n",
      "Epoch 106/1000\n",
      "1712/1712 [==============================] - 0s 269us/step - loss: 0.0025 - val_loss: 0.0036\n",
      "Epoch 107/1000\n",
      "1712/1712 [==============================] - 0s 265us/step - loss: 0.0025 - val_loss: 0.0035\n",
      "Epoch 108/1000\n",
      "1712/1712 [==============================] - 0s 267us/step - loss: 0.0025 - val_loss: 0.0035\n",
      "Epoch 109/1000\n",
      "1712/1712 [==============================] - 0s 267us/step - loss: 0.0025 - val_loss: 0.0035\n",
      "Epoch 110/1000\n",
      "1712/1712 [==============================] - 0s 266us/step - loss: 0.0025 - val_loss: 0.0035\n",
      "Epoch 111/1000\n",
      "1712/1712 [==============================] - 0s 272us/step - loss: 0.0025 - val_loss: 0.0035\n",
      "Epoch 112/1000\n",
      "1712/1712 [==============================] - 0s 270us/step - loss: 0.0025 - val_loss: 0.0037\n",
      "Epoch 113/1000\n",
      "1712/1712 [==============================] - 0s 268us/step - loss: 0.0025 - val_loss: 0.0035\n",
      "Epoch 114/1000\n",
      "1712/1712 [==============================] - 0s 270us/step - loss: 0.0024 - val_loss: 0.0038\n",
      "Epoch 115/1000\n",
      "1712/1712 [==============================] - 0s 266us/step - loss: 0.0024 - val_loss: 0.0034\n",
      "Epoch 116/1000\n",
      "1712/1712 [==============================] - 0s 266us/step - loss: 0.0024 - val_loss: 0.0034\n",
      "Epoch 117/1000\n",
      "1712/1712 [==============================] - 0s 269us/step - loss: 0.0024 - val_loss: 0.0035\n",
      "Epoch 118/1000\n",
      "1712/1712 [==============================] - 0s 266us/step - loss: 0.0023 - val_loss: 0.0035\n",
      "Epoch 119/1000\n",
      "1712/1712 [==============================] - 0s 267us/step - loss: 0.0023 - val_loss: 0.0034\n",
      "Epoch 120/1000\n",
      "1712/1712 [==============================] - 0s 265us/step - loss: 0.0023 - val_loss: 0.0034\n",
      "Epoch 121/1000\n",
      "1712/1712 [==============================] - 0s 268us/step - loss: 0.0024 - val_loss: 0.0036\n",
      "Epoch 122/1000\n",
      "1712/1712 [==============================] - 0s 264us/step - loss: 0.0023 - val_loss: 0.0036\n",
      "Epoch 123/1000\n",
      "1712/1712 [==============================] - 0s 266us/step - loss: 0.0023 - val_loss: 0.0035\n",
      "Epoch 124/1000\n",
      "1712/1712 [==============================] - 0s 271us/step - loss: 0.0023 - val_loss: 0.0034\n",
      "Epoch 125/1000\n",
      "1712/1712 [==============================] - 0s 267us/step - loss: 0.0023 - val_loss: 0.0033\n",
      "Epoch 126/1000\n",
      "1712/1712 [==============================] - 0s 267us/step - loss: 0.0023 - val_loss: 0.0036\n",
      "Epoch 127/1000\n",
      "1712/1712 [==============================] - 0s 267us/step - loss: 0.0023 - val_loss: 0.0034\n",
      "Epoch 128/1000\n",
      "1712/1712 [==============================] - 0s 269us/step - loss: 0.0022 - val_loss: 0.0034\n",
      "Epoch 129/1000\n",
      "1712/1712 [==============================] - 0s 267us/step - loss: 0.0022 - val_loss: 0.0034\n",
      "Epoch 130/1000\n",
      "1712/1712 [==============================] - 0s 268us/step - loss: 0.0023 - val_loss: 0.0034\n",
      "Epoch 131/1000\n",
      "1712/1712 [==============================] - 0s 265us/step - loss: 0.0022 - val_loss: 0.0034\n",
      "Epoch 132/1000\n",
      "1712/1712 [==============================] - 0s 269us/step - loss: 0.0022 - val_loss: 0.0034\n",
      "Epoch 133/1000\n",
      "1712/1712 [==============================] - 0s 267us/step - loss: 0.0022 - val_loss: 0.0037\n",
      "Epoch 134/1000\n",
      "1712/1712 [==============================] - 0s 268us/step - loss: 0.0022 - val_loss: 0.0034\n",
      "Epoch 135/1000\n",
      "1712/1712 [==============================] - 0s 266us/step - loss: 0.0023 - val_loss: 0.0034\n"
     ]
    }
   ],
   "source": [
    "model = Sequential()\n",
    "model.add(Dense(100, input_dim=9216))\n",
    "model.add(Activation('relu'))\n",
    "model.add(Dense(30))\n",
    "sgd = optimizers.SGD(lr=0.01, momentum=0.9, nesterov=True)\n",
    "model.compile(loss=\"mse\", optimizer=sgd)\n",
    "es = callbacks.EarlyStopping(monitor='val_loss',min_delta=0,patience=10,verbose=0, mode='auto')\n",
    "history = model.fit(x,y,epochs=1000,validation_split=.2,verbose=1,callbacks=[es])"
   ]
  },
  {
   "cell_type": "code",
   "execution_count": 129,
   "metadata": {},
   "outputs": [],
   "source": [
    "test_x = preprocess_1d(data2,True)"
   ]
  },
  {
   "cell_type": "code",
   "execution_count": 31,
   "metadata": {},
   "outputs": [],
   "source": [
    "pred = model.predict(test_x)"
   ]
  },
  {
   "cell_type": "code",
   "execution_count": 38,
   "metadata": {},
   "outputs": [
    {
     "data": {
      "text/plain": [
       "array([63.045486, 35.023476, 30.705723, 37.194695, 59.427895, 37.050972,\n",
       "       71.797935, 38.70309 , 36.24117 , 38.966408, 22.846338, 40.338036,\n",
       "       53.23693 , 27.37459 , 78.61934 , 30.037235, 39.854736, 28.50988 ,\n",
       "       18.11023 , 29.479866, 46.87405 , 55.334984, 62.207344, 72.39566 ,\n",
       "       33.05121 , 74.263245, 48.437515, 71.095215, 48.644005, 80.39359 ],\n",
       "      dtype=float32)"
      ]
     },
     "execution_count": 38,
     "metadata": {},
     "output_type": "execute_result"
    }
   ],
   "source": [
    "pred[0] * 48 + 48"
   ]
  },
  {
   "cell_type": "code",
   "execution_count": 45,
   "metadata": {},
   "outputs": [
    {
     "data": {
      "text/plain": [
       "15"
      ]
     },
     "execution_count": 45,
     "metadata": {},
     "output_type": "execute_result"
    }
   ],
   "source": [
    "label[0::2]"
   ]
  },
  {
   "cell_type": "code",
   "execution_count": 53,
   "metadata": {},
   "outputs": [
    {
     "data": {
      "image/png": "[encoded data removed]",
      "text/plain": [
       "<matplotlib.figure.Figure at 0x182122a908>"
      ]
     },
     "metadata": {},
     "output_type": "display_data"
    }
   ],
   "source": [
    "plot_image(data1,29,True)"
   ]
  },
  {
   "cell_type": "code",
   "execution_count": 168,
   "metadata": {},
   "outputs": [],
   "source": [
    "def plot_test(x,y,n=0):\n",
    "    \n",
    "    if x.shape[0] == 1:\n",
    "        image = x\n",
    "        label = y * 48 + 48\n",
    "        image = image.reshape([96,96])\n",
    "        fig,ax = plt.subplots()\n",
    "        ax.imshow(image,cmap=\"gray\")\n",
    "        for i in range(0,(len(label)-1),2):\n",
    "            ax.plot(label[i],label[i+1],color=\"r\",marker=\"+\")\n",
    "        plt.show()\n",
    "    else:\n",
    "        image = x[(n-1)]\n",
    "        label = y[(n-1)] * 48 + 48\n",
    "        image = image.reshape([96,96])\n",
    "        fig,ax = plt.subplots()\n",
    "        ax.imshow(image,cmap=\"gray\")\n",
    "        for i in range(0,(len(label)-1),2):\n",
    "            ax.plot(label[i],label[i+1],color=\"r\",marker=\"+\")\n",
    "        plt.show()\n",
    "\n",
    "    "
   ]
  },
  {
   "cell_type": "code",
   "execution_count": 59,
   "metadata": {},
   "outputs": [
    {
     "data": {
      "image/png": "[encoded data removed]",
      "text/plain": [
       "<matplotlib.figure.Figure at 0x1821339ac8>"
      ]
     },
     "metadata": {},
     "output_type": "display_data"
    }
   ],
   "source": [
    "plot_test(x,y,99)"
   ]
  },
  {
   "cell_type": "code",
   "execution_count": 61,
   "metadata": {},
   "outputs": [],
   "source": [
    "import PIL\n",
    "from PIL import Image"
   ]
  },
  {
   "cell_type": "code",
   "execution_count": 104,
   "metadata": {},
   "outputs": [
    {
     "data": {
      "text/plain": [
       "array([0.7137255 , 0.7176471 , 0.7137255 , ..., 0.03137255, 0.01960784,\n",
       "       0.01960784], dtype=float32)"
      ]
     },
     "execution_count": 104,
     "metadata": {},
     "output_type": "execute_result"
    }
   ],
   "source": [
    "test_x[0]"
   ]
  },
  {
   "cell_type": "code",
   "execution_count": 112,
   "metadata": {},
   "outputs": [
    {
     "data": {
      "text/plain": [
       "array([0.73333333, 0.73333333, 0.73333333, ..., 0.9254902 , 0.9254902 ,\n",
       "       0.92156863])"
      ]
     },
     "execution_count": 112,
     "metadata": {},
     "output_type": "execute_result"
    }
   ],
   "source": [
    "x / 255"
   ]
  },
  {
   "cell_type": "code",
   "execution_count": 184,
   "metadata": {},
   "outputs": [
    {
     "ename": "FileNotFoundError",
     "evalue": "[Errno 2] No such file or directory: '/Users/gianlucatadori/Documents/Programming/kaggle_facial/immagini/immagini.quotidiano.net'",
     "output_type": "error",
     "traceback": [
      "\u001b[0;31m---------------------------------------------------------------------------\u001b[0m",
      "\u001b[0;31mFileNotFoundError\u001b[0m                         Traceback (most recent call last)",
      "\u001b[0;32m<ipython-input-184-a4b0282b42d1>\u001b[0m in \u001b[0;36m<module>\u001b[0;34m()\u001b[0m\n\u001b[0;32m----> 1\u001b[0;31m \u001b[0mimage\u001b[0m \u001b[0;34m=\u001b[0m \u001b[0mImage\u001b[0m\u001b[0;34m.\u001b[0m\u001b[0mopen\u001b[0m\u001b[0;34m(\u001b[0m\u001b[0;34m\"/Users/gianlucatadori/Documents/Programming/kaggle_facial/immagini/immagini.quotidiano.net\"\u001b[0m\u001b[0;34m)\u001b[0m\u001b[0;34m\u001b[0m\u001b[0m\n\u001b[0m\u001b[1;32m      2\u001b[0m \u001b[0mimage\u001b[0m \u001b[0;34m=\u001b[0m \u001b[0mimage\u001b[0m\u001b[0;34m.\u001b[0m\u001b[0mresize\u001b[0m\u001b[0;34m(\u001b[0m\u001b[0;34m[\u001b[0m\u001b[0;36m96\u001b[0m\u001b[0;34m,\u001b[0m\u001b[0;36m96\u001b[0m\u001b[0;34m]\u001b[0m\u001b[0;34m,\u001b[0m\u001b[0mPIL\u001b[0m\u001b[0;34m.\u001b[0m\u001b[0mImage\u001b[0m\u001b[0;34m.\u001b[0m\u001b[0mANTIALIAS\u001b[0m\u001b[0;34m)\u001b[0m\u001b[0;34m\u001b[0m\u001b[0m\n\u001b[1;32m      3\u001b[0m \u001b[0mimage\u001b[0m \u001b[0;34m=\u001b[0m \u001b[0mimage\u001b[0m\u001b[0;34m.\u001b[0m\u001b[0mconvert\u001b[0m\u001b[0;34m(\u001b[0m\u001b[0;34m\"L\"\u001b[0m\u001b[0;34m)\u001b[0m\u001b[0;34m\u001b[0m\u001b[0m\n\u001b[1;32m      4\u001b[0m \u001b[0mx\u001b[0m \u001b[0;34m=\u001b[0m \u001b[0mnp\u001b[0m\u001b[0;34m.\u001b[0m\u001b[0masarray\u001b[0m\u001b[0;34m(\u001b[0m\u001b[0mimage\u001b[0m\u001b[0;34m.\u001b[0m\u001b[0mgetdata\u001b[0m\u001b[0;34m(\u001b[0m\u001b[0;34m)\u001b[0m\u001b[0;34m)\u001b[0m \u001b[0;34m/\u001b[0m \u001b[0;36m255\u001b[0m\u001b[0;34m\u001b[0m\u001b[0m\n\u001b[1;32m      5\u001b[0m \u001b[0;31m#test_x = np.append(test_x,x)\u001b[0m\u001b[0;34m\u001b[0m\u001b[0;34m\u001b[0m\u001b[0m\n",
      "\u001b[0;32m~/anaconda3/envs/p3/lib/python3.5/site-packages/PIL/Image.py\u001b[0m in \u001b[0;36mopen\u001b[0;34m(fp, mode)\u001b[0m\n\u001b[1;32m   2541\u001b[0m \u001b[0;34m\u001b[0m\u001b[0m\n\u001b[1;32m   2542\u001b[0m     \u001b[0;32mif\u001b[0m \u001b[0mfilename\u001b[0m\u001b[0;34m:\u001b[0m\u001b[0;34m\u001b[0m\u001b[0m\n\u001b[0;32m-> 2543\u001b[0;31m         \u001b[0mfp\u001b[0m \u001b[0;34m=\u001b[0m \u001b[0mbuiltins\u001b[0m\u001b[0;34m.\u001b[0m\u001b[0mopen\u001b[0m\u001b[0;34m(\u001b[0m\u001b[0mfilename\u001b[0m\u001b[0;34m,\u001b[0m \u001b[0;34m\"rb\"\u001b[0m\u001b[0;34m)\u001b[0m\u001b[0;34m\u001b[0m\u001b[0m\n\u001b[0m\u001b[1;32m   2544\u001b[0m         \u001b[0mexclusive_fp\u001b[0m \u001b[0;34m=\u001b[0m \u001b[0;32mTrue\u001b[0m\u001b[0;34m\u001b[0m\u001b[0m\n\u001b[1;32m   2545\u001b[0m \u001b[0;34m\u001b[0m\u001b[0m\n",
      "\u001b[0;31mFileNotFoundError\u001b[0m: [Errno 2] No such file or directory: '/Users/gianlucatadori/Documents/Programming/kaggle_facial/immagini/immagini.quotidiano.net'"
     ]
    }
   ],
   "source": [
    "image = Image.open(\"/Users/gianlucatadori/Documents/Programming/kaggle_facial/immagini/immagini.quotidiano.net\")\n",
    "image = image.resize([96,96],PIL.Image.ANTIALIAS)\n",
    "image = image.convert(\"L\")\n",
    "x = np.asarray(image.getdata()) / 255\n",
    "#test_x = np.append(test_x,x)\n",
    "#print(len(test_x))\n",
    "#y = model.predict(test_x)\n",
    "image"
   ]
  },
  {
   "cell_type": "code",
   "execution_count": 182,
   "metadata": {},
   "outputs": [],
   "source": [
    "def plot_im_test(x,y):\n",
    "    \n",
    "        image = x\n",
    "        label = y[0] * 48 + 48\n",
    "        image = image.reshape([96,96])\n",
    "        fig,ax = plt.subplots()\n",
    "        ax.imshow(image,cmap=\"gray\")\n",
    "        for i in range(0,(len(label)-1),2):\n",
    "            ax.plot(label[i],label[i+1],color=\"r\",marker=\"+\")\n",
    "        plt.show()"
   ]
  },
  {
   "cell_type": "code",
   "execution_count": 181,
   "metadata": {},
   "outputs": [
    {
     "data": {
      "text/plain": [
       "array([ 0.19369844, -0.23157373, -0.32002708, -0.18015882,  0.21613371,\n",
       "       -0.12113637,  0.46185678, -0.14141597, -0.18119027, -0.14385769,\n",
       "       -0.51554525, -0.10602547,  0.12708329, -0.3357975 ,  0.61072326,\n",
       "       -0.25755504, -0.09757318, -0.31353766, -0.5382747 , -0.2671079 ,\n",
       "       -0.02044492,  0.17087242,  0.3262025 ,  0.4454269 , -0.3345129 ,\n",
       "        0.48702717,  0.06897254,  0.48709774,  0.04920498,  0.6125765 ],\n",
       "      dtype=float32)"
      ]
     },
     "execution_count": 181,
     "metadata": {},
     "output_type": "execute_result"
    }
   ],
   "source": [
    "label = y * 48 + 48\n",
    "y[0]"
   ]
  },
  {
   "cell_type": "code",
   "execution_count": 183,
   "metadata": {},
   "outputs": [
    {
     "data": {
      "image/png": "[encoded data removed]",
      "text/plain": [
       "<matplotlib.figure.Figure at 0x1824db8c88>"
      ]
     },
     "metadata": {},
     "output_type": "display_data"
    }
   ],
   "source": [
    "plot_im_test(x,y)"
   ]
  },
  {
   "cell_type": "code",
   "execution_count": 172,
   "metadata": {},
   "outputs": [
    {
     "data": {
      "image/png": "[encoded data removed]",
      "text/plain": [
       "<matplotlib.figure.Figure at 0x1825cd16a0>"
      ]
     },
     "metadata": {},
     "output_type": "display_data"
    },
    {
     "data": {
      "text/plain": [
       "array([[ 0.19369844, -0.23157373, -0.32002708, -0.18015882,  0.21613371,\n",
       "        -0.12113637,  0.46185678, -0.14141597, -0.18119027, -0.14385769,\n",
       "        -0.51554525, -0.10602547,  0.12708329, -0.3357975 ,  0.61072326,\n",
       "        -0.25755504, -0.09757318, -0.31353766, -0.5382747 , -0.2671079 ,\n",
       "        -0.02044492,  0.17087242,  0.3262025 ,  0.4454269 , -0.3345129 ,\n",
       "         0.48702717,  0.06897254,  0.48709774,  0.04920498,  0.6125765 ]],\n",
       "      dtype=float32)"
      ]
     },
     "execution_count": 172,
     "metadata": {},
     "output_type": "execute_result"
    }
   ],
   "source": [
    "x = np.asarray(image.getdata()) / 255\n",
    "x.shape\n",
    "x = x[:,None].T\n",
    "y = model.predict(x)\n",
    "plot_im_test(x,y)\n",
    "y"
   ]
  },
  {
   "cell_type": "code",
   "execution_count": 81,
   "metadata": {},
   "outputs": [
    {
     "ename": "ValueError",
     "evalue": "cannot reshape array of size 5472 into shape (96,96)",
     "output_type": "error",
     "traceback": [
      "\u001b[0;31m---------------------------------------------------------------------------\u001b[0m",
      "\u001b[0;31mValueError\u001b[0m                                Traceback (most recent call last)",
      "\u001b[0;32m<ipython-input-81-c880b373b48e>\u001b[0m in \u001b[0;36m<module>\u001b[0;34m()\u001b[0m\n\u001b[1;32m      3\u001b[0m \u001b[0mimage\u001b[0m \u001b[0;34m=\u001b[0m \u001b[0mimage\u001b[0m\u001b[0;34m.\u001b[0m\u001b[0mconvert\u001b[0m\u001b[0;34m(\u001b[0m\u001b[0;34m\"1\"\u001b[0m\u001b[0;34m)\u001b[0m\u001b[0;34m\u001b[0m\u001b[0m\n\u001b[1;32m      4\u001b[0m \u001b[0mx\u001b[0m \u001b[0;34m=\u001b[0m \u001b[0mnp\u001b[0m\u001b[0;34m.\u001b[0m\u001b[0masarray\u001b[0m\u001b[0;34m(\u001b[0m\u001b[0mimage\u001b[0m\u001b[0;34m.\u001b[0m\u001b[0mgetdata\u001b[0m\u001b[0;34m(\u001b[0m\u001b[0;34m)\u001b[0m\u001b[0;34m)\u001b[0m\u001b[0;34m\u001b[0m\u001b[0m\n\u001b[0;32m----> 5\u001b[0;31m \u001b[0mx\u001b[0m \u001b[0;34m=\u001b[0m \u001b[0mx\u001b[0m\u001b[0;34m.\u001b[0m\u001b[0mreshape\u001b[0m\u001b[0;34m(\u001b[0m\u001b[0;34m(\u001b[0m\u001b[0;36m96\u001b[0m\u001b[0;34m,\u001b[0m\u001b[0;36m96\u001b[0m\u001b[0;34m)\u001b[0m\u001b[0;34m)\u001b[0m\u001b[0;34m\u001b[0m\u001b[0m\n\u001b[0m\u001b[1;32m      6\u001b[0m \u001b[0mplt\u001b[0m\u001b[0;34m.\u001b[0m\u001b[0mimshow\u001b[0m\u001b[0;34m(\u001b[0m\u001b[0mx\u001b[0m\u001b[0;34m)\u001b[0m\u001b[0;34m\u001b[0m\u001b[0m\n\u001b[1;32m      7\u001b[0m \u001b[0mplt\u001b[0m\u001b[0;34m.\u001b[0m\u001b[0mshow\u001b[0m\u001b[0;34m(\u001b[0m\u001b[0;34m)\u001b[0m\u001b[0;34m\u001b[0m\u001b[0m\n",
      "\u001b[0;31mValueError\u001b[0m: cannot reshape array of size 5472 into shape (96,96)"
     ]
    }
   ],
   "source": [
    "image = Image.open(\"/Users/gianlucatadori/Documents/Programming/kaggle_facial/immagini/papafrancesco.jpg\")\n",
    "image.thumbnail([96,96],Image.ANTIALIAS)\n",
    "image = image.convert(\"1\")\n",
    "x = np.asarray(image.getdata())\n",
    "x = x.reshape((96,96))\n",
    "plt.imshow(x)\n",
    "plt.show()\n"
   ]
  },
  {
   "cell_type": "code",
   "execution_count": null,
   "metadata": {},
   "outputs": [],
   "source": []
  },
  {
   "cell_type": "code",
   "execution_count": 19,
   "metadata": {},
   "outputs": [
    {
     "data": {
      "image/png": "[encoded data removed]",
      "text/plain": [
       "<matplotlib.figure.Figure at 0x181b96cc18>"
      ]
     },
     "metadata": {},
     "output_type": "display_data"
    }
   ],
   "source": [
    "train_loss = history.history[\"loss\"]\n",
    "valid_loss = history.history[\"val_loss\"]\n",
    "plt.plot(train_loss, linewidth=3, label=\"train\")\n",
    "plt.plot(valid_loss, linewidth=3, label=\"valid\")\n",
    "plt.grid()\n",
    "plt.legend()\n",
    "plt.xlabel(\"epoch\")\n",
    "plt.ylabel(\"loss\")\n",
    "plt.ylim(1e-3, 1e-2)\n",
    "plt.yscale(\"log\")\n",
    "plt.show()"
   ]
  },
  {
   "cell_type": "code",
   "execution_count": 18,
   "metadata": {},
   "outputs": [
    {
     "name": "stdout",
     "output_type": "stream",
     "text": [
      "X.shape == (2140, 9216); X.min == 0.000; X.max == 1.000\n",
      "y.shape == (2140, 30); y.min == -0.920; y.max == 0.996\n"
     ]
    }
   ],
   "source": [
    "print(\"X.shape == {}; X.min == {:.3f}; X.max == {:.3f}\".format(\n",
    "    x.shape, x.min(), x.max()))\n",
    "print(\"y.shape == {}; y.min == {:.3f}; y.max == {:.3f}\".format(\n",
    "    y.shape, y.min(), y.max()))"
   ]
  },
  {
   "cell_type": "code",
   "execution_count": 19,
   "metadata": {},
   "outputs": [
    {
     "name": "stdout",
     "output_type": "stream",
     "text": [
      "_________________________________________________________________\n",
      "Layer (type)                 Output Shape              Param #   \n",
      "=================================================================\n",
      "dense_3 (Dense)              (None, 100)               921700    \n",
      "_________________________________________________________________\n",
      "dense_4 (Dense)              (None, 30)                3030      \n",
      "=================================================================\n",
      "Total params: 924,730\n",
      "Trainable params: 924,730\n",
      "Non-trainable params: 0\n",
      "_________________________________________________________________\n"
     ]
    }
   ],
   "source": [
    "model.summary()"
   ]
  },
  {
   "cell_type": "code",
   "execution_count": null,
   "metadata": {},
   "outputs": [],
   "source": [
    "train_x2, train_y2, test_x2, test_y2 = preprocess_2d(data,.8)"
   ]
  },
  {
   "cell_type": "code",
   "execution_count": null,
   "metadata": {},
   "outputs": [],
   "source": [
    "def conv_model(in_shape):\n",
    "    \n",
    "    x = Input(in_shape)\n",
    "    \n",
    "    conv1 = Conv2D(32,(3,3),strides=(1,1),padding=\"same\")(x)\n",
    "    conv1 = Activation(\"relu\")(conv1)\n",
    "    conv1 = MaxPooling2D((2,2))(conv1)\n",
    "    conv1 = Dropout(.2)(conv1)\n",
    "    \n",
    "    conv2 = Conv2D(64,(3,3),strides=(1,1),padding=\"same\")(conv1)\n",
    "    conv2 = Activation(\"relu\")(conv2)\n",
    "    conv2 = MaxPooling2D((2,2))(conv2)\n",
    "    conv2 = Dropout(.2)(conv2)\n",
    "    \n",
    "    conv3 = Conv2D(64,(3,3),strides=(1,1),padding=\"same\")(conv2)\n",
    "    conv3 = Activation(\"relu\")(conv3)\n",
    "    conv3 = MaxPooling2D((2,2))(conv3)\n",
    "    conv3 = Dropout(.2)(conv3)\n",
    "    \n",
    "    flat = Flatten()(conv3)\n",
    "    out = Dense(30,activation=\"relu\")(flat)\n",
    "    \n",
    "    model = Model(inputs= x, outputs = out)\n",
    "    \n",
    "    return model"
   ]
  },
  {
   "cell_type": "code",
   "execution_count": null,
   "metadata": {},
   "outputs": [],
   "source": [
    "model = conv_model((96,96,1))\n",
    "model.compile(optimizer=\"adam\", loss=rmse,metrics=[\"accuracy\"])\n",
    "\n",
    " \n",
    "history = History()"
   ]
  }
 ],
 "metadata": {
  "kernelspec": {
   "display_name": "Python 3",
   "language": "python",
   "name": "python3"
  },
  "language_info": {
   "codemirror_mode": {
    "name": "ipython",
    "version": 3
   },
   "file_extension": ".py",
   "mimetype": "text/x-python",
   "name": "python",
   "nbconvert_exporter": "python",
   "pygments_lexer": "ipython3",
   "version": "3.5.4"
  }
 },
 "nbformat": 4,
 "nbformat_minor": 2
}
