{
 "cells": [
  {
   "cell_type": "markdown",
   "metadata": {},
   "source": []
  },
  {
   "cell_type": "code",
   "execution_count": 640,
   "metadata": {},
   "outputs": [],
   "source": [
    "import pandas as pd\n",
    "import matplotlib.pyplot as plt\n",
    "import numpy as np\n",
    "import tensorflow as tf\n",
    "from tensorflow.python import debug as tf_debug"
   ]
  },
  {
   "cell_type": "code",
   "execution_count": 809,
   "metadata": {},
   "outputs": [],
   "source": [
    "data = pd.read_csv(\"/Users/gianlucatadori/Documents/Programming/kaggle_facial/training.csv\")"
   ]
  },
  {
   "cell_type": "code",
   "execution_count": null,
   "metadata": {},
   "outputs": [],
   "source": [
    "# remoe batch, convolutions"
   ]
  },
  {
   "cell_type": "code",
   "execution_count": 416,
   "metadata": {},
   "outputs": [],
   "source": [
    "def plot_image(n,with_points=False):\n",
    "\n",
    "    x = data.iloc[n]\n",
    "    image = [int(i) for i in x[30].split(\" \")]\n",
    "    image = np.asarray(image)\n",
    "    image = image.reshape([96,96])\n",
    "    \n",
    "    if with_points == False:\n",
    "        plt.imshow(image,cmap='gray')\n",
    "    else:\n",
    "        fig, ax = plt.subplots()\n",
    "        ax.imshow(image,cmap='gray')\n",
    "        for i in range(0,(len(x)-2),2):\n",
    "            ax.plot(x[i],x[i+1],color=\"r\",marker=\"+\")\n",
    "        plt.show()\n",
    "\n"
   ]
  },
  {
   "cell_type": "code",
   "execution_count": 663,
   "metadata": {},
   "outputs": [
    {
     "data": {
      "image/png": "[encoded data removed]",
      "text/plain": [
       "<matplotlib.figure.Figure at 0x183d389828>"
      ]
     },
     "metadata": {},
     "output_type": "display_data"
    }
   ],
   "source": [
    "plot_image(2352,True)"
   ]
  },
  {
   "cell_type": "code",
   "execution_count": 671,
   "metadata": {},
   "outputs": [
    {
     "data": {
      "text/plain": [
       "2140"
      ]
     },
     "execution_count": 671,
     "metadata": {},
     "output_type": "execute_result"
    }
   ],
   "source": [
    "z = data.dropna()\n",
    "len(z)"
   ]
  },
  {
   "cell_type": "code",
   "execution_count": 810,
   "metadata": {},
   "outputs": [],
   "source": [
    "# create training and testing datasets\n",
    "\n",
    "# TODO: remove all nas, and retry\n",
    "\n",
    "def preprocess_1d(data,p):\n",
    "    \n",
    "    df = data.dropna()\n",
    "    train_size = int(len(df)*p)\n",
    "    \n",
    "    labels = np.ones((len(df),30))\n",
    "\n",
    "    for i in range(0,len(df)):\n",
    "        x = np.asarray(df.iloc[i].drop([\"Image\"]))\n",
    "        x = x.reshape([1,30])\n",
    "        x = (x -48)/48\n",
    "        labels[i] = labels[i]*x\n",
    "    \n",
    "    inputs = np.ones((len(df),9216))\n",
    "\n",
    "    for i in range(0, len(df)):\n",
    "        x = [int(j) for j in df.iloc[i][30].split(\" \")]\n",
    "        x = np.asarray(x).reshape([1,9216])\n",
    "        x = x / 255\n",
    "        inputs[i] = inputs[i] * np.asarray(x)\n",
    "    \n",
    "    train_x = inputs[:train_size]\n",
    "    test_x = inputs[train_size:]\n",
    "\n",
    "    train_y = labels[:train_size]\n",
    "    test_y = labels[train_size:]\n",
    "    \n",
    "    return (train_x,train_y,test_x,test_y)\n",
    "\n",
    "\n"
   ]
  },
  {
   "cell_type": "code",
   "execution_count": 811,
   "metadata": {},
   "outputs": [],
   "source": [
    "train_x,train_y,test_x,test_y = preprocess_1d(data,.8)"
   ]
  },
  {
   "cell_type": "code",
   "execution_count": 462,
   "metadata": {},
   "outputs": [],
   "source": [
    "def create_placeholders(x,y):\n",
    "    x = tf.placeholder(tf.float32,[None,9216])\n",
    "    y = tf.placeholder(tf.float32,[None,30])\n",
    "    \n",
    "    return x,y\n"
   ]
  },
  {
   "cell_type": "code",
   "execution_count": 564,
   "metadata": {},
   "outputs": [],
   "source": [
    "def initialize_variables(hidden_u, input_n, output_n):\n",
    "    \n",
    "    tf.set_random_seed(1) \n",
    "    \n",
    "    w1 = tf.Variable(tf.truncated_normal((input_n,hidden_u)))\n",
    "    b1 = tf.Variable(tf.zeros((1,hidden_u)))\n",
    "    \n",
    "    w2 = tf.Variable(tf.truncated_normal((hidden_u,output_n)))\n",
    "    b2 = tf.Variable(tf.zeros((1, output_n)))\n",
    "    \n",
    "    parameters = {\"w1\":w1, \"b1\":b1, \"w2\":w2, \"b2\":b2}\n",
    "    \n",
    "    return parameters"
   ]
  },
  {
   "cell_type": "code",
   "execution_count": 710,
   "metadata": {},
   "outputs": [],
   "source": [
    "def model(x,parameters):\n",
    "    \n",
    "    w1 = parameters[\"w1\"]\n",
    "    w2 = parameters[\"w2\"]\n",
    "    b1 = parameters[\"b1\"]\n",
    "    b2 = parameters[\"b2\"]\n",
    "    # first layer\n",
    "    layer1 = tf.add(tf.matmul(x,w1),b1)\n",
    "    layer1 = tf.nn.relu(layer1)\n",
    "    # second layer\n",
    "    layer2 = tf.add(tf.matmul(layer1,w2),b2)\n",
    "    layer2 = tf.nn.relu(layer2)\n",
    "\n",
    "    return layer2"
   ]
  },
  {
   "cell_type": "code",
   "execution_count": null,
   "metadata": {},
   "outputs": [],
   "source": [
    "def conv_model(x,parameters):\n",
    "    \n",
    "    conv1 = tf.nn.conv2d(x,[])"
   ]
  },
  {
   "cell_type": "code",
   "execution_count": 711,
   "metadata": {},
   "outputs": [],
   "source": [
    "def compute_cost(labels,pred):\n",
    "    \n",
    "    cost = tf.sqrt(tf.reduce_mean(tf.square(tf.subtract(labels, pred))))\n",
    "    \n",
    "    return cost"
   ]
  },
  {
   "cell_type": "code",
   "execution_count": 712,
   "metadata": {},
   "outputs": [],
   "source": [
    "def mini_batches(batch_size):\n",
    "    \n",
    "    \n",
    "    mini_batches = []\n",
    "    m = len(train_x)\n",
    "    num_complete_minibatches = math.floor(m/batch_size)\n",
    "    \n",
    "    for i in range(0, num_complete_minibatches):\n",
    "        mini_batch_X = train_x[i * batch_size : i * batch_size + batch_size,:]\n",
    "        mini_batch_Y = train_y[i * batch_size : i * batch_size + batch_size,:]\n",
    "        mini_batch = (mini_batch_X, mini_batch_Y)\n",
    "        mini_batches.append(mini_batch)\n",
    "        \n",
    "    if m % batch_size  != 0:\n",
    "        mini_batch_X = train_x[num_complete_minibatches*batch_size:m,:]\n",
    "        mini_batch_Y = train_y[num_complete_minibatches*batch_size:m,:]\n",
    "        mini_batch = (mini_batch_X, mini_batch_Y)\n",
    "        mini_batches.append(mini_batch)\n",
    "        \n",
    "    return mini_batches"
   ]
  },
  {
   "cell_type": "code",
   "execution_count": 713,
   "metadata": {},
   "outputs": [],
   "source": [
    "def build_model(learn_rate,batch_size,hidden_u,epochs):\n",
    "    \n",
    "    input_n = 9216\n",
    "    output_n = 30\n",
    "    x, y = create_placeholders(train_x,train_y)\n",
    "    parameters = initialize_variables(hidden_u, input_n, output_n)\n",
    "    pred = model(x,parameters)\n",
    "    cost = compute_cost(y,pred)\n",
    "    optimizer = tf.train.AdamOptimizer(learning_rate=learn_rate).minimize(cost)\n",
    "    \n",
    "    init = tf.global_variables_initializer()\n",
    "    sess = tf.Session()\n",
    "    sess.run(init)\n",
    "    costs = []\n",
    "    for epoch in range(epochs):\n",
    "        \n",
    "        batch_cost = 0\n",
    "        avg_cost = 0.\n",
    "        batches = mini_batches(batch_size)\n",
    "        total_batches = len(batches)\n",
    "        \n",
    "        for i in range(total_batches):\n",
    "            batch_x = batches[i][0]\n",
    "            batch_y = batches[i][1]\n",
    "            \n",
    "            _,c = sess.run([optimizer,cost], feed_dict={x:batch_x,y:batch_y})\n",
    "            \n",
    "            batch_cost += c/total_batches\n",
    "            costs.append(c)\n",
    "        if epoch == 1:\n",
    "            print(\"Cost after epoch {0}: {1}\".format(epoch,batch_cost))\n",
    "        elif epoch % 5 == 0:\n",
    "            print(\"Cost after epoch {0}: {1}\".format(epoch,batch_cost))\n",
    "        \n",
    "    plt.plot(np.squeeze(costs))\n",
    "    plt.ylabel('cost')\n",
    "    plt.xlabel('iterations (per tens)')\n",
    "    plt.title(\"Learning rate =\" + str(learn_rate))\n",
    "    plt.show()\n",
    "            "
   ]
  },
  {
   "cell_type": "code",
   "execution_count": 715,
   "metadata": {},
   "outputs": [
    {
     "name": "stdout",
     "output_type": "stream",
     "text": [
      "(9216, 900)\n",
      "(?, 9216)\n",
      "w2 shape is:(900, 30), b2:(1, 30), layer1:(?, 900)\n",
      "layer2 shape is: Tensor(\"Relu_57:0\", shape=(?, 30), dtype=float32)\n",
      "Tensor(\"Relu_57:0\", shape=(?, 30), dtype=float32)\n",
      "Cost after epoch 0: 0.821070845021268\n",
      "Cost after epoch 1: 0.3901555080697908\n",
      "Cost after epoch 5: 0.3901555080697908\n"
     ]
    },
    {
     "ename": "KeyboardInterrupt",
     "evalue": "",
     "output_type": "error",
     "traceback": [
      "\u001b[0;31m---------------------------------------------------------------------------\u001b[0m",
      "\u001b[0;31mKeyboardInterrupt\u001b[0m                         Traceback (most recent call last)",
      "\u001b[0;32m<ipython-input-715-213a598b8e66>\u001b[0m in \u001b[0;36m<module>\u001b[0;34m()\u001b[0m\n\u001b[0;32m----> 1\u001b[0;31m \u001b[0mmodel\u001b[0m \u001b[0;34m=\u001b[0m \u001b[0mbuild_model\u001b[0m\u001b[0;34m(\u001b[0m\u001b[0;36m0.01\u001b[0m\u001b[0;34m,\u001b[0m\u001b[0;36m1\u001b[0m\u001b[0;34m,\u001b[0m\u001b[0;36m900\u001b[0m\u001b[0;34m,\u001b[0m\u001b[0;36m100\u001b[0m\u001b[0;34m)\u001b[0m\u001b[0;34m\u001b[0m\u001b[0m\n\u001b[0m",
      "\u001b[0;32m<ipython-input-713-0baca561b3ff>\u001b[0m in \u001b[0;36mbuild_model\u001b[0;34m(learn_rate, batch_size, hidden_u, epochs)\u001b[0m\n\u001b[1;32m     24\u001b[0m             \u001b[0mbatch_y\u001b[0m \u001b[0;34m=\u001b[0m \u001b[0mbatches\u001b[0m\u001b[0;34m[\u001b[0m\u001b[0mi\u001b[0m\u001b[0;34m]\u001b[0m\u001b[0;34m[\u001b[0m\u001b[0;36m1\u001b[0m\u001b[0;34m]\u001b[0m\u001b[0;34m\u001b[0m\u001b[0m\n\u001b[1;32m     25\u001b[0m \u001b[0;34m\u001b[0m\u001b[0m\n\u001b[0;32m---> 26\u001b[0;31m             \u001b[0m_\u001b[0m\u001b[0;34m,\u001b[0m\u001b[0mc\u001b[0m \u001b[0;34m=\u001b[0m \u001b[0msess\u001b[0m\u001b[0;34m.\u001b[0m\u001b[0mrun\u001b[0m\u001b[0;34m(\u001b[0m\u001b[0;34m[\u001b[0m\u001b[0moptimizer\u001b[0m\u001b[0;34m,\u001b[0m\u001b[0mcost\u001b[0m\u001b[0;34m]\u001b[0m\u001b[0;34m,\u001b[0m \u001b[0mfeed_dict\u001b[0m\u001b[0;34m=\u001b[0m\u001b[0;34m{\u001b[0m\u001b[0mx\u001b[0m\u001b[0;34m:\u001b[0m\u001b[0mbatch_x\u001b[0m\u001b[0;34m,\u001b[0m\u001b[0my\u001b[0m\u001b[0;34m:\u001b[0m\u001b[0mbatch_y\u001b[0m\u001b[0;34m}\u001b[0m\u001b[0;34m)\u001b[0m\u001b[0;34m\u001b[0m\u001b[0m\n\u001b[0m\u001b[1;32m     27\u001b[0m \u001b[0;34m\u001b[0m\u001b[0m\n\u001b[1;32m     28\u001b[0m             \u001b[0mbatch_cost\u001b[0m \u001b[0;34m+=\u001b[0m \u001b[0mc\u001b[0m\u001b[0;34m/\u001b[0m\u001b[0mtotal_batches\u001b[0m\u001b[0;34m\u001b[0m\u001b[0m\n",
      "\u001b[0;32m~/anaconda3/envs/p3/lib/python3.5/site-packages/tensorflow/python/client/session.py\u001b[0m in \u001b[0;36mrun\u001b[0;34m(self, fetches, feed_dict, options, run_metadata)\u001b[0m\n\u001b[1;32m    887\u001b[0m     \u001b[0;32mtry\u001b[0m\u001b[0;34m:\u001b[0m\u001b[0;34m\u001b[0m\u001b[0m\n\u001b[1;32m    888\u001b[0m       result = self._run(None, fetches, feed_dict, options_ptr,\n\u001b[0;32m--> 889\u001b[0;31m                          run_metadata_ptr)\n\u001b[0m\u001b[1;32m    890\u001b[0m       \u001b[0;32mif\u001b[0m \u001b[0mrun_metadata\u001b[0m\u001b[0;34m:\u001b[0m\u001b[0;34m\u001b[0m\u001b[0m\n\u001b[1;32m    891\u001b[0m         \u001b[0mproto_data\u001b[0m \u001b[0;34m=\u001b[0m \u001b[0mtf_session\u001b[0m\u001b[0;34m.\u001b[0m\u001b[0mTF_GetBuffer\u001b[0m\u001b[0;34m(\u001b[0m\u001b[0mrun_metadata_ptr\u001b[0m\u001b[0;34m)\u001b[0m\u001b[0;34m\u001b[0m\u001b[0m\n",
      "\u001b[0;32m~/anaconda3/envs/p3/lib/python3.5/site-packages/tensorflow/python/client/session.py\u001b[0m in \u001b[0;36m_run\u001b[0;34m(self, handle, fetches, feed_dict, options, run_metadata)\u001b[0m\n\u001b[1;32m   1118\u001b[0m     \u001b[0;32mif\u001b[0m \u001b[0mfinal_fetches\u001b[0m \u001b[0;32mor\u001b[0m \u001b[0mfinal_targets\u001b[0m \u001b[0;32mor\u001b[0m \u001b[0;34m(\u001b[0m\u001b[0mhandle\u001b[0m \u001b[0;32mand\u001b[0m \u001b[0mfeed_dict_tensor\u001b[0m\u001b[0;34m)\u001b[0m\u001b[0;34m:\u001b[0m\u001b[0;34m\u001b[0m\u001b[0m\n\u001b[1;32m   1119\u001b[0m       results = self._do_run(handle, final_targets, final_fetches,\n\u001b[0;32m-> 1120\u001b[0;31m                              feed_dict_tensor, options, run_metadata)\n\u001b[0m\u001b[1;32m   1121\u001b[0m     \u001b[0;32melse\u001b[0m\u001b[0;34m:\u001b[0m\u001b[0;34m\u001b[0m\u001b[0m\n\u001b[1;32m   1122\u001b[0m       \u001b[0mresults\u001b[0m \u001b[0;34m=\u001b[0m \u001b[0;34m[\u001b[0m\u001b[0;34m]\u001b[0m\u001b[0;34m\u001b[0m\u001b[0m\n",
      "\u001b[0;32m~/anaconda3/envs/p3/lib/python3.5/site-packages/tensorflow/python/client/session.py\u001b[0m in \u001b[0;36m_do_run\u001b[0;34m(self, handle, target_list, fetch_list, feed_dict, options, run_metadata)\u001b[0m\n\u001b[1;32m   1315\u001b[0m     \u001b[0;32mif\u001b[0m \u001b[0mhandle\u001b[0m \u001b[0;32mis\u001b[0m \u001b[0;32mNone\u001b[0m\u001b[0;34m:\u001b[0m\u001b[0;34m\u001b[0m\u001b[0m\n\u001b[1;32m   1316\u001b[0m       return self._do_call(_run_fn, self._session, feeds, fetches, targets,\n\u001b[0;32m-> 1317\u001b[0;31m                            options, run_metadata)\n\u001b[0m\u001b[1;32m   1318\u001b[0m     \u001b[0;32melse\u001b[0m\u001b[0;34m:\u001b[0m\u001b[0;34m\u001b[0m\u001b[0m\n\u001b[1;32m   1319\u001b[0m       \u001b[0;32mreturn\u001b[0m \u001b[0mself\u001b[0m\u001b[0;34m.\u001b[0m\u001b[0m_do_call\u001b[0m\u001b[0;34m(\u001b[0m\u001b[0m_prun_fn\u001b[0m\u001b[0;34m,\u001b[0m \u001b[0mself\u001b[0m\u001b[0;34m.\u001b[0m\u001b[0m_session\u001b[0m\u001b[0;34m,\u001b[0m \u001b[0mhandle\u001b[0m\u001b[0;34m,\u001b[0m \u001b[0mfeeds\u001b[0m\u001b[0;34m,\u001b[0m \u001b[0mfetches\u001b[0m\u001b[0;34m)\u001b[0m\u001b[0;34m\u001b[0m\u001b[0m\n",
      "\u001b[0;32m~/anaconda3/envs/p3/lib/python3.5/site-packages/tensorflow/python/client/session.py\u001b[0m in \u001b[0;36m_do_call\u001b[0;34m(self, fn, *args)\u001b[0m\n\u001b[1;32m   1321\u001b[0m   \u001b[0;32mdef\u001b[0m \u001b[0m_do_call\u001b[0m\u001b[0;34m(\u001b[0m\u001b[0mself\u001b[0m\u001b[0;34m,\u001b[0m \u001b[0mfn\u001b[0m\u001b[0;34m,\u001b[0m \u001b[0;34m*\u001b[0m\u001b[0margs\u001b[0m\u001b[0;34m)\u001b[0m\u001b[0;34m:\u001b[0m\u001b[0;34m\u001b[0m\u001b[0m\n\u001b[1;32m   1322\u001b[0m     \u001b[0;32mtry\u001b[0m\u001b[0;34m:\u001b[0m\u001b[0;34m\u001b[0m\u001b[0m\n\u001b[0;32m-> 1323\u001b[0;31m       \u001b[0;32mreturn\u001b[0m \u001b[0mfn\u001b[0m\u001b[0;34m(\u001b[0m\u001b[0;34m*\u001b[0m\u001b[0margs\u001b[0m\u001b[0;34m)\u001b[0m\u001b[0;34m\u001b[0m\u001b[0m\n\u001b[0m\u001b[1;32m   1324\u001b[0m     \u001b[0;32mexcept\u001b[0m \u001b[0merrors\u001b[0m\u001b[0;34m.\u001b[0m\u001b[0mOpError\u001b[0m \u001b[0;32mas\u001b[0m \u001b[0me\u001b[0m\u001b[0;34m:\u001b[0m\u001b[0;34m\u001b[0m\u001b[0m\n\u001b[1;32m   1325\u001b[0m       \u001b[0mmessage\u001b[0m \u001b[0;34m=\u001b[0m \u001b[0mcompat\u001b[0m\u001b[0;34m.\u001b[0m\u001b[0mas_text\u001b[0m\u001b[0;34m(\u001b[0m\u001b[0me\u001b[0m\u001b[0;34m.\u001b[0m\u001b[0mmessage\u001b[0m\u001b[0;34m)\u001b[0m\u001b[0;34m\u001b[0m\u001b[0m\n",
      "\u001b[0;32m~/anaconda3/envs/p3/lib/python3.5/site-packages/tensorflow/python/client/session.py\u001b[0m in \u001b[0;36m_run_fn\u001b[0;34m(session, feed_dict, fetch_list, target_list, options, run_metadata)\u001b[0m\n\u001b[1;32m   1300\u001b[0m           return tf_session.TF_Run(session, options,\n\u001b[1;32m   1301\u001b[0m                                    \u001b[0mfeed_dict\u001b[0m\u001b[0;34m,\u001b[0m \u001b[0mfetch_list\u001b[0m\u001b[0;34m,\u001b[0m \u001b[0mtarget_list\u001b[0m\u001b[0;34m,\u001b[0m\u001b[0;34m\u001b[0m\u001b[0m\n\u001b[0;32m-> 1302\u001b[0;31m                                    status, run_metadata)\n\u001b[0m\u001b[1;32m   1303\u001b[0m \u001b[0;34m\u001b[0m\u001b[0m\n\u001b[1;32m   1304\u001b[0m     \u001b[0;32mdef\u001b[0m \u001b[0m_prun_fn\u001b[0m\u001b[0;34m(\u001b[0m\u001b[0msession\u001b[0m\u001b[0;34m,\u001b[0m \u001b[0mhandle\u001b[0m\u001b[0;34m,\u001b[0m \u001b[0mfeed_dict\u001b[0m\u001b[0;34m,\u001b[0m \u001b[0mfetch_list\u001b[0m\u001b[0;34m)\u001b[0m\u001b[0;34m:\u001b[0m\u001b[0;34m\u001b[0m\u001b[0m\n",
      "\u001b[0;31mKeyboardInterrupt\u001b[0m: "
     ]
    }
   ],
   "source": [
    "model = build_model(0.01,1,900,100)"
   ]
  },
  {
   "cell_type": "code",
   "execution_count": 754,
   "metadata": {},
   "outputs": [],
   "source": [
    "from keras import backend as K\n",
    "from keras.layers import Input, Conv2D, Activation, MaxPooling2D, Flatten, Dense\n",
    "from keras.models import Model\n",
    "#import keras as k"
   ]
  },
  {
   "cell_type": "code",
   "execution_count": 798,
   "metadata": {},
   "outputs": [
    {
     "data": {
      "text/plain": [
       "array([[[238.],\n",
       "        [236.],\n",
       "        [237.],\n",
       "        ...,\n",
       "        [250.],\n",
       "        [250.],\n",
       "        [250.]],\n",
       "\n",
       "       [[235.],\n",
       "        [238.],\n",
       "        [236.],\n",
       "        ...,\n",
       "        [249.],\n",
       "        [250.],\n",
       "        [251.]],\n",
       "\n",
       "       [[237.],\n",
       "        [236.],\n",
       "        [237.],\n",
       "        ...,\n",
       "        [251.],\n",
       "        [251.],\n",
       "        [250.]],\n",
       "\n",
       "       ...,\n",
       "\n",
       "       [[186.],\n",
       "        [183.],\n",
       "        [181.],\n",
       "        ...,\n",
       "        [ 52.],\n",
       "        [ 57.],\n",
       "        [ 60.]],\n",
       "\n",
       "       [[189.],\n",
       "        [188.],\n",
       "        [207.],\n",
       "        ...,\n",
       "        [ 61.],\n",
       "        [ 69.],\n",
       "        [ 78.]],\n",
       "\n",
       "       [[191.],\n",
       "        [184.],\n",
       "        [184.],\n",
       "        ...,\n",
       "        [ 70.],\n",
       "        [ 75.],\n",
       "        [ 90.]]])"
      ]
     },
     "execution_count": 798,
     "metadata": {},
     "output_type": "execute_result"
    }
   ],
   "source": [
    "q = data.iloc[0]\n",
    "image = np.asarray([int(j) for j in q[30].split(\" \")])\n",
    "image = image.reshape([96,96])\n",
    "\n",
    "q2 = data.iloc[1]\n",
    "image2 = np.asarray([int(j) for j in q2[30].split(\" \")])\n",
    "image2 = image.reshape([96,96])\n",
    "\n",
    "x = np.asarray([])\n",
    "x = np.append(image,image2)\n",
    "a = np.ones((2,96,96,1))\n",
    "#a[0] = image*a[0]\n",
    "b = image.reshape([96,96,1])\n",
    "a[0] = b*a[0]\n",
    "a[0]"
   ]
  },
  {
   "cell_type": "code",
   "execution_count": 814,
   "metadata": {},
   "outputs": [
    {
     "data": {
      "text/plain": [
       "428"
      ]
     },
     "execution_count": 814,
     "metadata": {},
     "output_type": "execute_result"
    }
   ],
   "source": [
    "len(train_y2)"
   ]
  },
  {
   "cell_type": "code",
   "execution_count": 818,
   "metadata": {},
   "outputs": [
    {
     "name": "stdout",
     "output_type": "stream",
     "text": [
      "2140\n"
     ]
    },
    {
     "data": {
      "text/plain": [
       "2140"
      ]
     },
     "execution_count": 818,
     "metadata": {},
     "output_type": "execute_result"
    }
   ],
   "source": [
    "df = data.dropna()\n",
    "a = len(df)\n",
    "print(a)\n",
    "\n",
    "labels = np.ones((a,30))\n",
    "for i in range(a):\n",
    "    x = np.asarray(df.iloc[i].drop([\"Image\"]))\n",
    "    x = x.reshape([1,30])\n",
    "    x = (x -48)/48\n",
    "    labels[i] = labels[i]*x\n",
    "    \n",
    "len(labels)"
   ]
  },
  {
   "cell_type": "code",
   "execution_count": 820,
   "metadata": {},
   "outputs": [
    {
     "data": {
      "text/plain": [
       "2140"
      ]
     },
     "execution_count": 820,
     "metadata": {},
     "output_type": "execute_result"
    }
   ],
   "source": [
    "inputs = np.ones((len(df),96,96,1))\n",
    "\n",
    "for i in range(0, len(df)):\n",
    "    x = [int(j) for j in df.iloc[i][30].split(\" \")]\n",
    "    x = np.asarray(x).reshape([96,96,1])\n",
    "    x = x / 255\n",
    "    inputs[i] = inputs[i] * x\n",
    "len(inputs)"
   ]
  },
  {
   "cell_type": "code",
   "execution_count": 821,
   "metadata": {},
   "outputs": [],
   "source": [
    "train_size = int(len(df)*.8)\n",
    "train_x = inputs[:train_size]\n",
    "test_x = inputs[train_size:]\n",
    "\n",
    "train_y = labels[:train_size]\n",
    "test_y = labels[train_size:]"
   ]
  },
  {
   "cell_type": "code",
   "execution_count": 827,
   "metadata": {},
   "outputs": [
    {
     "data": {
      "text/plain": [
       "1712"
      ]
     },
     "execution_count": 827,
     "metadata": {},
     "output_type": "execute_result"
    }
   ],
   "source": [
    "len(train_y)"
   ]
  },
  {
   "cell_type": "code",
   "execution_count": 828,
   "metadata": {},
   "outputs": [],
   "source": [
    "# create training and testing datasets\n",
    "\n",
    "# TODO: remove all nas, and retry\n",
    "\n",
    "def preprocess_2d(data,p):\n",
    "    \n",
    "    df = data.dropna()\n",
    "    train_size = int(len(df)*p)\n",
    "    \n",
    "    labels = np.ones((len(df),30))\n",
    "\n",
    "    for i in range(0,len(df)):\n",
    "        x = np.asarray(df.iloc[i].drop([\"Image\"]))\n",
    "        x = x.reshape([1,30])\n",
    "        x = (x -48)/48\n",
    "        labels[i] = labels[i]*x\n",
    "    \n",
    "    inputs = np.ones((len(df),96,96,1))\n",
    "\n",
    "    for i in range(0, len(df)):\n",
    "        x = [int(j) for j in df.iloc[i][30].split(\" \")]\n",
    "        x = np.asarray(x).reshape([96,96,1])\n",
    "        x = x / 255\n",
    "        inputs[i] = inputs[i] * x\n",
    "    \n",
    "    train_x = inputs[:train_size]\n",
    "    test_x = inputs[train_size:]\n",
    "\n",
    "    train_y = labels[:train_size]\n",
    "    test_y = labels[train_size:]\n",
    "    \n",
    "    return (train_x,train_y,test_x,test_y)"
   ]
  },
  {
   "cell_type": "code",
   "execution_count": 829,
   "metadata": {},
   "outputs": [],
   "source": [
    "train_x2, train_y2, test_x2, test_y2 = preprocess_2d(data,.8)"
   ]
  },
  {
   "cell_type": "code",
   "execution_count": 830,
   "metadata": {},
   "outputs": [],
   "source": [
    "def conv_model(in_shape):\n",
    "    \n",
    "    x = Input(in_shape)\n",
    "    \n",
    "    conv1 = Conv2D(32,(3,3),strides=(1,1),padding=\"same\")(x)\n",
    "    conv1 = Activation(\"relu\")(conv1)\n",
    "    conv1 = MaxPooling2D((2,2))(conv1)\n",
    "    \n",
    "    conv2 = Conv2D(64,(3,3),strides=(1,1),padding=\"same\")(conv1)\n",
    "    conv2 = Activation(\"relu\")(conv2)\n",
    "    conv2 = MaxPooling2D((2,2))(conv2)\n",
    "    \n",
    "    conv3 = Conv2D(64,(3,3),strides=(1,1),padding=\"same\")(conv2)\n",
    "    conv3 = Activation(\"relu\")(conv3)\n",
    "    conv3 = MaxPooling2D((2,2))(conv3)\n",
    "    \n",
    "    flat = Flatten()(conv3)\n",
    "    out = Dense(30,activation=\"relu\")(flat)\n",
    "    \n",
    "    model = Model(inputs= x, outputs = out)\n",
    "    \n",
    "    return model"
   ]
  },
  {
   "cell_type": "code",
   "execution_count": 831,
   "metadata": {},
   "outputs": [],
   "source": [
    "def rmse(y_pred,y_true):\n",
    "    return K.sqrt(K.mean(K.square(y_pred - y_true), axis=-1))"
   ]
  },
  {
   "cell_type": "code",
   "execution_count": 832,
   "metadata": {},
   "outputs": [],
   "source": [
    "model = conv_model((96,96,1))\n",
    "model.compile(optimizer=\"adam\", loss=rmse,metrics=[\"accuracy\"])\n"
   ]
  },
  {
   "cell_type": "code",
   "execution_count": 833,
   "metadata": {},
   "outputs": [
    {
     "name": "stdout",
     "output_type": "stream",
     "text": [
      "Epoch 1/2\n",
      "1712/1712 [==============================] - 55s 32ms/step - loss: 0.3239 - acc: 0.1215\n",
      "Epoch 2/2\n",
      "1712/1712 [==============================] - 31s 18ms/step - loss: 0.3122 - acc: 0.1706\n"
     ]
    },
    {
     "data": {
      "text/plain": [
       "<keras.callbacks.History at 0x1839cabc88>"
      ]
     },
     "execution_count": 833,
     "metadata": {},
     "output_type": "execute_result"
    }
   ],
   "source": [
    "model.fit(x=train_x2, y=train_y2,epochs=2,batch_size=128)"
   ]
  },
  {
   "cell_type": "code",
   "execution_count": null,
   "metadata": {},
   "outputs": [],
   "source": []
  }
 ],
 "metadata": {
  "kernelspec": {
   "display_name": "Python 3",
   "language": "python",
   "name": "python3"
  },
  "language_info": {
   "codemirror_mode": {
    "name": "ipython",
    "version": 3
   },
   "file_extension": ".py",
   "mimetype": "text/x-python",
   "name": "python",
   "nbconvert_exporter": "python",
   "pygments_lexer": "ipython3",
   "version": "3.5.4"
  }
 },
 "nbformat": 4,
 "nbformat_minor": 2
}
